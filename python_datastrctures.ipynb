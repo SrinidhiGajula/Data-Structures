{
  "nbformat": 4,
  "nbformat_minor": 0,
  "metadata": {
    "colab": {
      "provenance": []
    },
    "kernelspec": {
      "name": "python3",
      "display_name": "Python 3"
    },
    "language_info": {
      "name": "python"
    }
  },
  "cells": [
    {
      "cell_type": "code",
      "execution_count": null,
      "metadata": {
        "id": "7ao2FT0W_L_c"
      },
      "outputs": [],
      "source": []
    },
    {
      "cell_type": "markdown",
      "source": [],
      "metadata": {
        "id": "K2B6lW-sqbTu"
      }
    },
    {
      "cell_type": "markdown",
      "source": [
        "1.What are data structures, and why are they important\n",
        "\n",
        "A: Data structures are ways to organize, manage, and store data efficiently.Lists, tuple, set, dictionary etc are used for accessing, manipulating data\n",
        "\n",
        "2.Explain the difference between mutable and immutable data types with examples\n",
        "\n",
        "A:Mutable data types can be changed eg: list, dictionary\n",
        "  immutable cant be changed. eg: tuple, string\n",
        "\n",
        "3.What are the main differences between lists and tuples in Python\n",
        "\n",
        "A: lists are mutable, tuple are immutable\n",
        "\n",
        "4.Describe how dictionaries store data\n",
        "\n",
        "A: In key-value pairs. It is changeable, dont allow duplicates.\n",
        "\n",
        "5.Why might you use a set instead of a list in Python\n",
        "\n",
        "A: Sets are used when we don't want to allow duplicates, and to fetch element quickly.\n",
        "\n",
        "6.What is a string in Python, and how is it different from a list\n",
        "\n",
        " A: Strings are immutable, list are mutable.\n",
        "\n",
        "7.How do tuples ensure data integrity in Python\n",
        "\n",
        "A: Doesnot allow to make changes, thus ensuring integrity\n",
        "\n",
        "8.What is a hash table, and how does it relate to dictionaries in Python\n",
        "\n",
        " A: Hash table maps keys to values using a hash function. This function computes an index into an array of buckets or slots, from which the desired value can be found.\n",
        "\n",
        "9.Can lists contain different data types in Python.\n",
        "\n",
        " A: Yes\n",
        "\n",
        "10.Explain why strings are immutable in Python.\n",
        "\n",
        "A:String does not support item assignment. We cannot update the string after declaring the immutability of string ,this is very useful as it helps in hashing, performance optimization, safety, ease of use, etc.\n",
        "\n",
        "11.What advantages do dictionaries offer over lists for certain tasks .\n",
        "\n",
        " A: Dictionary uses hashing table hence it is more optimised, its keys cannot be changed ensuring integrity\n",
        "\n",
        "12.Describe a scenario where using a tuple would be preferable over a list.\n",
        "\n",
        "A: Employee id, Govt. id proof\n",
        "\n",
        "13.How do sets handle duplicate values in Python.\n",
        "\n",
        "A: Sets are unordered collections of unique elements, it simply ignore the duplicates and retain only one instance of each unique value.\n",
        "\n",
        "14.How does the “in” keyword work differently for lists and dictionaries.\n",
        "\n",
        " A: In list \"in\" checks whether the value exists as an element in the list, in dictionary it checks if that key is present.\n",
        "\n",
        "15.Can you modify the elements of a tuple? Explain why or why not.\n",
        "\n",
        "A: No, as it is immutable.\n",
        "\n",
        "16.What is a nested dictionary, and give an example of its use case.\n",
        "\n",
        "A: It is dictioary inside dictionary\n",
        "eg: new= {d1: {'k1': 'v1'}, 'd2': {'k2': 'v2'}}. Useful for organising structured data, hierarchy.\n",
        "\n",
        "17.Describe the time complexity of accessing elements in a dictionary\n",
        "\n",
        " A: It uses a hashmap, therefore O(n).\n",
        "\n",
        "18.In what situations are lists preferred over dictionaries.\n",
        "\n",
        "A: To maintain order, allow duplicates,ideal where repetition is key,quick access to elements by index, perfect for iteration. - Perfect for key-value pairs—associate unique keys with values.\n",
        "\n",
        "19.Why are dictionaries considered unordered, and how does that affect data retrieval.\n",
        "\n",
        "A: Dictionaries use hash function, so they are unordered. We can retrieve dictionary data using keys and not index.\n",
        "\n",
        "20.Explain the difference between a list and a dictionary in terms of data retrieval.\n",
        "\n",
        "A: Dictionaries are unordered. We can retrieve dictionary data using keys and not index. Lists are ordered, data can be retrieved using index."
      ],
      "metadata": {
        "id": "C851rX-Q_NhL"
      }
    },
    {
      "cell_type": "code",
      "source": [
        "# 1.Write a code to create a string with your name and print it\n",
        "str=\"Srinidhi Gajula\"\n",
        "print(str)"
      ],
      "metadata": {
        "colab": {
          "base_uri": "https://localhost:8080/"
        },
        "id": "lRKjcrlTreLS",
        "outputId": "72a5f70b-e21f-45af-ba8e-c2abe8ecce21"
      },
      "execution_count": 1,
      "outputs": [
        {
          "output_type": "stream",
          "name": "stdout",
          "text": [
            "Srinidhi Gajula\n"
          ]
        }
      ]
    },
    {
      "cell_type": "code",
      "source": [
        "#2.Write a code to find the length of the string \"Hello World\"\n",
        "print(len(\"Hello World\"))"
      ],
      "metadata": {
        "colab": {
          "base_uri": "https://localhost:8080/"
        },
        "id": "pkqm51F8syEb",
        "outputId": "6e08ec87-498b-48cf-cf12-e50610b53996"
      },
      "execution_count": 2,
      "outputs": [
        {
          "output_type": "stream",
          "name": "stdout",
          "text": [
            "11\n"
          ]
        }
      ]
    },
    {
      "cell_type": "code",
      "source": [
        "#3.Write a code to slice the first 3 characters from the string \"Python Programming\"\n",
        "print(\"Python Programming\"[0:3])"
      ],
      "metadata": {
        "colab": {
          "base_uri": "https://localhost:8080/"
        },
        "id": "rw-ZaRXgtHai",
        "outputId": "92551df5-63d4-4083-9e7b-63e28df56f18"
      },
      "execution_count": 3,
      "outputs": [
        {
          "output_type": "stream",
          "name": "stdout",
          "text": [
            "Pyt\n"
          ]
        }
      ]
    },
    {
      "cell_type": "code",
      "source": [
        "#Write a code to convert the string \"hello\" to uppercase\n",
        "str=\"hello\"\n",
        "str.upper()"
      ],
      "metadata": {
        "colab": {
          "base_uri": "https://localhost:8080/",
          "height": 35
        },
        "id": "Cf19gBy1tQQT",
        "outputId": "46c66f92-4319-4630-8c5d-75459623f158"
      },
      "execution_count": 4,
      "outputs": [
        {
          "output_type": "execute_result",
          "data": {
            "text/plain": [
              "'HELLO'"
            ],
            "application/vnd.google.colaboratory.intrinsic+json": {
              "type": "string"
            }
          },
          "metadata": {},
          "execution_count": 4
        }
      ]
    },
    {
      "cell_type": "code",
      "source": [
        "#Write a code to replace the word \"apple\" with \"orange\" in the string \"I like apple\"\n",
        "text = \"I like apple\"\n",
        "new = text.replace(\"apple\", \"orange\")\n",
        "print(new)"
      ],
      "metadata": {
        "colab": {
          "base_uri": "https://localhost:8080/"
        },
        "id": "3brmgIqgtfQu",
        "outputId": "124485ed-58ab-424c-c5cc-4e2b4e213cfa"
      },
      "execution_count": 5,
      "outputs": [
        {
          "output_type": "stream",
          "name": "stdout",
          "text": [
            "I like orange\n"
          ]
        }
      ]
    },
    {
      "cell_type": "code",
      "source": [
        "# Write a code to create a list with numbers 1 to 5 and print it\n",
        "list=[1,2,3,4,5]\n",
        "print(list)"
      ],
      "metadata": {
        "colab": {
          "base_uri": "https://localhost:8080/"
        },
        "id": "UG3xlBqqt4Wn",
        "outputId": "a6117d3f-e5dc-4a9e-c7ce-645d6404c3fa"
      },
      "execution_count": 6,
      "outputs": [
        {
          "output_type": "stream",
          "name": "stdout",
          "text": [
            "[1, 2, 3, 4, 5]\n"
          ]
        }
      ]
    },
    {
      "cell_type": "code",
      "source": [
        "# Write a code to append the number 10 to the list [1, 2, 3, 4]\n",
        "list=[1,2,3,4]\n",
        "list.append(10)\n",
        "print(list)"
      ],
      "metadata": {
        "colab": {
          "base_uri": "https://localhost:8080/"
        },
        "id": "wRzxxp7YuDw6",
        "outputId": "68b5321f-0aa7-4bb7-8d30-36f58b845fd5"
      },
      "execution_count": 7,
      "outputs": [
        {
          "output_type": "stream",
          "name": "stdout",
          "text": [
            "[1, 2, 3, 4, 10]\n"
          ]
        }
      ]
    },
    {
      "cell_type": "code",
      "source": [
        "#Write a code to remove the number 3 from the list [1, 2, 3, 4, 5]\n",
        "list=[1,2,3,4,5]\n",
        "list.remove(3)\n",
        "print(list)"
      ],
      "metadata": {
        "colab": {
          "base_uri": "https://localhost:8080/"
        },
        "id": "wT3zOjHAuUow",
        "outputId": "f91e0d32-6aaf-4766-a7b4-73d110bed21f"
      },
      "execution_count": 8,
      "outputs": [
        {
          "output_type": "stream",
          "name": "stdout",
          "text": [
            "[1, 2, 4, 5]\n"
          ]
        }
      ]
    },
    {
      "cell_type": "code",
      "source": [
        "#9.Write a code to access the second element in the list ['a', 'b', 'c', 'd']\n",
        "list=['a', 'b', 'c', 'd']\n",
        "print(list[1])"
      ],
      "metadata": {
        "colab": {
          "base_uri": "https://localhost:8080/"
        },
        "id": "sqUdPVqzucGW",
        "outputId": "daa29191-c605-486f-e051-06c5b94126cd"
      },
      "execution_count": 9,
      "outputs": [
        {
          "output_type": "stream",
          "name": "stdout",
          "text": [
            "b\n"
          ]
        }
      ]
    },
    {
      "cell_type": "code",
      "source": [
        "#Write a code to reverse the list [10, 20, 30, 40, 50].\n",
        "list=[10, 20, 30, 40, 50]\n",
        "list.reverse()\n",
        "print(list)"
      ],
      "metadata": {
        "colab": {
          "base_uri": "https://localhost:8080/"
        },
        "id": "2boOTpoOupxw",
        "outputId": "2c09cc1c-c625-4384-9dc6-8daac132a1b8"
      },
      "execution_count": 10,
      "outputs": [
        {
          "output_type": "stream",
          "name": "stdout",
          "text": [
            "[50, 40, 30, 20, 10]\n"
          ]
        }
      ]
    },
    {
      "cell_type": "code",
      "source": [
        "#11.Write a code to create a tuple with the elements 100, 200, 300 and print it.\n",
        "tuple=(100, 200, 300)\n",
        "print(tuple)"
      ],
      "metadata": {
        "colab": {
          "base_uri": "https://localhost:8080/"
        },
        "id": "gcYC3ac4uzag",
        "outputId": "b9a52624-3119-4da3-f056-018f96d0f9d2"
      },
      "execution_count": 11,
      "outputs": [
        {
          "output_type": "stream",
          "name": "stdout",
          "text": [
            "(100, 200, 300)\n"
          ]
        }
      ]
    },
    {
      "cell_type": "code",
      "source": [
        "#12.Write a code to access the second-to-last element of the tuple ('red', 'green', 'blue', 'yellow').\n",
        "tuple=('red', 'green', 'blue', 'yellow')\n",
        "print(tuple[-2])"
      ],
      "metadata": {
        "colab": {
          "base_uri": "https://localhost:8080/"
        },
        "id": "vrDCxIE0u81k",
        "outputId": "fdb5c7f4-abdd-4e90-db16-de8e1dff8aee"
      },
      "execution_count": 12,
      "outputs": [
        {
          "output_type": "stream",
          "name": "stdout",
          "text": [
            "blue\n"
          ]
        }
      ]
    },
    {
      "cell_type": "code",
      "source": [
        "#13.Write a code to find the minimum number in the tuple (10, 20, 5, 15).\n",
        "tuple=(10, 20, 5, 15)\n",
        "print(min(tuple))"
      ],
      "metadata": {
        "colab": {
          "base_uri": "https://localhost:8080/"
        },
        "id": "dasWdWJvvLiC",
        "outputId": "3b00f9cd-081c-4a30-dfae-663a011daa34"
      },
      "execution_count": 13,
      "outputs": [
        {
          "output_type": "stream",
          "name": "stdout",
          "text": [
            "5\n"
          ]
        }
      ]
    },
    {
      "cell_type": "code",
      "source": [
        "#14.Write a code to find the index of the element \"cat\" in the tuple ('dog', 'cat', 'rabbit').\n",
        "tuple=('dog', 'cat', 'rabbit')\n",
        "print(tuple.index('cat'))"
      ],
      "metadata": {
        "colab": {
          "base_uri": "https://localhost:8080/"
        },
        "id": "LyfFKRT3vewk",
        "outputId": "b7b66137-6928-4898-b667-b947edcf0406"
      },
      "execution_count": 14,
      "outputs": [
        {
          "output_type": "stream",
          "name": "stdout",
          "text": [
            "1\n"
          ]
        }
      ]
    },
    {
      "cell_type": "code",
      "source": [
        "#15.Write a code to create a tuple containing three different fruits and check if \"kiwi\" is in it.\n",
        "tuple=(\"apple\", \"banana\", \"kiwi\")\n",
        "print(\"kiwi\" in tuple)"
      ],
      "metadata": {
        "colab": {
          "base_uri": "https://localhost:8080/"
        },
        "id": "TF9P7R2Kv0Wx",
        "outputId": "15b4c620-f979-48f0-deba-2e0364063ea6"
      },
      "execution_count": 16,
      "outputs": [
        {
          "output_type": "stream",
          "name": "stdout",
          "text": [
            "True\n"
          ]
        }
      ]
    },
    {
      "cell_type": "code",
      "source": [
        "#Write a code to create a set with the elements 'a', 'b', 'c' and print it.\n",
        "set1={'a','b','c'}\n",
        "print(set1)\n",
        "set1.clear()"
      ],
      "metadata": {
        "colab": {
          "base_uri": "https://localhost:8080/"
        },
        "id": "-MU4LAb6wGXU",
        "outputId": "38bcee62-1d25-4eb3-bba9-f39a73aff296"
      },
      "execution_count": 52,
      "outputs": [
        {
          "output_type": "stream",
          "name": "stdout",
          "text": [
            "{'b', 'c', 'a'}\n"
          ]
        }
      ]
    },
    {
      "cell_type": "code",
      "source": [
        "#Write a code to clear all elements from the set {1, 2, 3, 4, 5}.\n",
        "set1 = {1, 2, 3, 4, 5}\n",
        "set1.clear()\n",
        "print(set1)\n",
        "set1.clear()"
      ],
      "metadata": {
        "colab": {
          "base_uri": "https://localhost:8080/"
        },
        "id": "vKNKUl3xwRBB",
        "outputId": "49630c52-9860-4d7e-f2f5-46c022a119c7"
      },
      "execution_count": 53,
      "outputs": [
        {
          "output_type": "stream",
          "name": "stdout",
          "text": [
            "set()\n"
          ]
        }
      ]
    },
    {
      "cell_type": "code",
      "source": [
        "#Write a code to remove the element 4 from the set {1, 2, 3, 4}.\n",
        "set1 = {1, 2, 3, 4}\n",
        "set1.remove(4)\n",
        "print(set1)\n",
        "set1.clear()"
      ],
      "metadata": {
        "colab": {
          "base_uri": "https://localhost:8080/"
        },
        "id": "Q0ExNzejwgti",
        "outputId": "371e1bc2-943d-44b5-b312-294a86829d08"
      },
      "execution_count": 54,
      "outputs": [
        {
          "output_type": "stream",
          "name": "stdout",
          "text": [
            "{1, 2, 3}\n"
          ]
        }
      ]
    },
    {
      "cell_type": "code",
      "source": [
        "#Write a code to find the union of two sets {1, 2, 3} and {3, 4, 5}.\n",
        "a={1, 2, 3}\n",
        "b={3, 4, 5}\n",
        "print(a | b)\n",
        "a.clear()\n",
        "b.clear()"
      ],
      "metadata": {
        "colab": {
          "base_uri": "https://localhost:8080/"
        },
        "id": "FCdODF2UwoDI",
        "outputId": "0209caa6-87f7-4ea8-fa2a-cc513170226d"
      },
      "execution_count": 58,
      "outputs": [
        {
          "output_type": "stream",
          "name": "stdout",
          "text": [
            "{1, 2, 3, 4, 5}\n"
          ]
        }
      ]
    },
    {
      "cell_type": "code",
      "source": [
        "#Write a code to find the intersection of two sets {1, 2, 3} and {2, 3, 4}.\n",
        "a={1, 2, 3}\n",
        "b={3, 4, 2}\n",
        "print(a & b)\n",
        "a.clear()\n",
        "b.clear()"
      ],
      "metadata": {
        "colab": {
          "base_uri": "https://localhost:8080/"
        },
        "id": "BI9H4K6TyUtG",
        "outputId": "82e76203-5761-44ec-8865-81b89f67cf43"
      },
      "execution_count": 57,
      "outputs": [
        {
          "output_type": "stream",
          "name": "stdout",
          "text": [
            "{2, 3}\n"
          ]
        }
      ]
    },
    {
      "cell_type": "code",
      "source": [
        "#Write a code to create a dictionary with the keys \"name\", \"age\", and \"city\", and print it.\n",
        "dict={\"name\":\"Srinidhi\", \"age\":23, \"city\":\"Hyderabad\"}\n",
        "print(dict)"
      ],
      "metadata": {
        "colab": {
          "base_uri": "https://localhost:8080/"
        },
        "id": "nofXFCf5ykA4",
        "outputId": "79d6067e-8fe0-4b5e-8771-ed0fa0a5900b"
      },
      "execution_count": 26,
      "outputs": [
        {
          "output_type": "stream",
          "name": "stdout",
          "text": [
            "{'name': 'Srinidhi', 'age': 23, 'city': 'Hyderabad'}\n"
          ]
        }
      ]
    },
    {
      "cell_type": "code",
      "source": [
        "#Write a code to add a new key-value pair \"country\": \"USA\" to the dictionary {'name': 'John', 'age': 25}.\n",
        "dict = {'name': 'John', 'age': 25}\n",
        "dict['country']='USA'\n",
        "dict\n"
      ],
      "metadata": {
        "colab": {
          "base_uri": "https://localhost:8080/"
        },
        "id": "VTVIgx7pzxHN",
        "outputId": "15d6eb60-9a52-4547-9094-8887d4f851de"
      },
      "execution_count": 31,
      "outputs": [
        {
          "output_type": "execute_result",
          "data": {
            "text/plain": [
              "{'name': 'John', 'age': 25, 'country': 'USA'}"
            ]
          },
          "metadata": {},
          "execution_count": 31
        }
      ]
    },
    {
      "cell_type": "code",
      "source": [
        "# Write a code to access the value associated with the key \"name\" in the dictionary {'name': 'Alice', 'age': 30}.\n",
        "dict = {'name': 'Alice', 'age': 30}\n",
        "print(dict['name'])"
      ],
      "metadata": {
        "colab": {
          "base_uri": "https://localhost:8080/"
        },
        "id": "aae1gxQm5jBJ",
        "outputId": "5a80f537-cfe2-4d85-9f5c-4e3e63c4cee0"
      },
      "execution_count": 33,
      "outputs": [
        {
          "output_type": "stream",
          "name": "stdout",
          "text": [
            "Alice\n"
          ]
        }
      ]
    },
    {
      "cell_type": "code",
      "source": [
        "#Write a code to remove the key \"age\" from the dictionary {'name': 'Bob', 'age': 22, 'city': 'New York'}\n",
        "dict = {'name': 'Bob', 'age': 22, 'city': 'New York'}\n",
        "del dict['age']\n",
        "print(dict)"
      ],
      "metadata": {
        "colab": {
          "base_uri": "https://localhost:8080/"
        },
        "id": "4Qbev-U8-iIO",
        "outputId": "0b4bf8da-15a3-4a9c-f1ae-84e5d53f2ac2"
      },
      "execution_count": 34,
      "outputs": [
        {
          "output_type": "stream",
          "name": "stdout",
          "text": [
            "{'name': 'Bob', 'city': 'New York'}\n"
          ]
        }
      ]
    },
    {
      "cell_type": "code",
      "source": [
        "#Write a code to check if the key \"city\" exists in the dictionary {'name': 'Alice', 'city': 'Paris'}\n",
        "dict = {'name': 'Alice', 'city': 'Paris'}\n",
        "print('city' in dict)"
      ],
      "metadata": {
        "colab": {
          "base_uri": "https://localhost:8080/"
        },
        "id": "SVi5j8SP_4U-",
        "outputId": "2e42cce8-f653-42d9-c0e0-e1f733f54f51"
      },
      "execution_count": 35,
      "outputs": [
        {
          "output_type": "stream",
          "name": "stdout",
          "text": [
            "True\n"
          ]
        }
      ]
    },
    {
      "cell_type": "markdown",
      "source": [],
      "metadata": {
        "id": "N4xBklJGAYzB"
      }
    },
    {
      "cell_type": "code",
      "source": [
        "#Write a code to create a list, a tuple, and a dictionary, and print them all\n",
        "list=[1,2,3]\n",
        "print(list)\n",
        "tuple=(1,2,3)\n",
        "print(tuple)\n",
        "dict={\"name\":\"Meena\", \"age\":25, \"city\":\"Hyderabad\"}\n",
        "print(dict)"
      ],
      "metadata": {
        "colab": {
          "base_uri": "https://localhost:8080/"
        },
        "id": "1gzj0nKb__vp",
        "outputId": "e5e5c7aa-af7d-4f24-f65f-19a7db264511"
      },
      "execution_count": 36,
      "outputs": [
        {
          "output_type": "stream",
          "name": "stdout",
          "text": [
            "[1, 2, 3]\n",
            "(1, 2, 3)\n",
            "{'name': 'Meena', 'age': 25, 'city': 'Hyderabad'}\n"
          ]
        }
      ]
    },
    {
      "cell_type": "code",
      "source": [
        "#Write a code to create a list of 5 random numbers between 1 and 100, sort it in ascending order, and print the result\n",
        "import random\n",
        "numbers = [random.randint(1, 100) for i in range(5)]\n",
        "numbers.sort()\n",
        "print(numbers)"
      ],
      "metadata": {
        "colab": {
          "base_uri": "https://localhost:8080/"
        },
        "id": "YZUr3TqnBDeo",
        "outputId": "b819d056-2996-4d45-b6d7-e562677a385a"
      },
      "execution_count": 38,
      "outputs": [
        {
          "output_type": "stream",
          "name": "stdout",
          "text": [
            "[13, 21, 64, 72, 98]\n"
          ]
        }
      ]
    },
    {
      "cell_type": "code",
      "source": [
        "#Write a code to create a list with strings and print the element at the third index.\n",
        "list=[\"hyd\", \"blr\",\"delhi\",\"chennai\"]\n",
        "list[2]"
      ],
      "metadata": {
        "colab": {
          "base_uri": "https://localhost:8080/",
          "height": 35
        },
        "id": "RuwpHvfXDJVX",
        "outputId": "4c9b4dc1-4761-4eea-a3b5-ab24c95eab7f"
      },
      "execution_count": 39,
      "outputs": [
        {
          "output_type": "execute_result",
          "data": {
            "text/plain": [
              "'delhi'"
            ],
            "application/vnd.google.colaboratory.intrinsic+json": {
              "type": "string"
            }
          },
          "metadata": {},
          "execution_count": 39
        }
      ]
    },
    {
      "cell_type": "code",
      "source": [
        "#29. Write a code to combine two dictionaries into one and print the result.\n",
        "dict1 = {'a': 1, 'b': 2}\n",
        "dict2 = {'c': 3, 'd': 4}\n",
        "dict1.update(dict2)\n",
        "print(dict1)"
      ],
      "metadata": {
        "colab": {
          "base_uri": "https://localhost:8080/"
        },
        "id": "9Dt4nsNoEgiF",
        "outputId": "46420706-be0d-4cda-dcd0-d8a3e5c0e582"
      },
      "execution_count": 40,
      "outputs": [
        {
          "output_type": "stream",
          "name": "stdout",
          "text": [
            "{'a': 1, 'b': 2, 'c': 3, 'd': 4}\n"
          ]
        }
      ]
    },
    {
      "cell_type": "code",
      "source": [
        "#Write a code to convert a list of strings into a set\n",
        "l=[\"hyd\", \"blr\",\"delhi\",\"chennai\"]\n",
        "del set\n",
        "new_set = set(l)\n",
        "new_set"
      ],
      "metadata": {
        "colab": {
          "base_uri": "https://localhost:8080/"
        },
        "id": "leS0gH05Eo86",
        "outputId": "85e2dc91-a254-4bcb-cf95-0bcf4d7879a5"
      },
      "execution_count": 60,
      "outputs": [
        {
          "output_type": "execute_result",
          "data": {
            "text/plain": [
              "{'blr', 'chennai', 'delhi', 'hyd'}"
            ]
          },
          "metadata": {},
          "execution_count": 60
        }
      ]
    }
  ]
}